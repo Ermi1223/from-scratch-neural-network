{
  "nbformat": 4,
  "nbformat_minor": 0,
  "metadata": {
    "colab": {
      "provenance": [],
      "gpuType": "T4",
      "authorship_tag": "ABX9TyNljRChNSUroNQOSF2D2Hxj",
      "include_colab_link": true
    },
    "kernelspec": {
      "name": "python3",
      "display_name": "Python 3"
    },
    "language_info": {
      "name": "python"
    },
    "accelerator": "GPU"
  },
  "cells": [
    {
      "cell_type": "markdown",
      "metadata": {
        "id": "view-in-github",
        "colab_type": "text"
      },
      "source": [
        "<a href=\"https://colab.research.google.com/github/Ermi1223/from-scratch-neural-network/blob/main/Neural%20Network%20from%20Scratch.ipynb\" target=\"_parent\"><img src=\"https://colab.research.google.com/assets/colab-badge.svg\" alt=\"Open In Colab\"/></a>"
      ]
    },
    {
      "cell_type": "markdown",
      "source": [
        "**Implementing a Neural Network from Scratch Using Python and NumPy**"
      ],
      "metadata": {
        "id": "6eAYQcRPRVm-"
      }
    },
    {
      "cell_type": "markdown",
      "source": [
        "**1. Install Dependencies**"
      ],
      "metadata": {
        "id": "th9jJhvESp88"
      }
    },
    {
      "cell_type": "code",
      "source": [
        "!pip install numpy\n"
      ],
      "metadata": {
        "colab": {
          "base_uri": "https://localhost:8080/"
        },
        "id": "xNjot_ksRVwG",
        "outputId": "e222021a-6c9f-4782-fe02-18fae97a58b5"
      },
      "execution_count": null,
      "outputs": [
        {
          "output_type": "stream",
          "name": "stdout",
          "text": [
            "Requirement already satisfied: numpy in /usr/local/lib/python3.11/dist-packages (2.0.2)\n"
          ]
        }
      ]
    },
    {
      "cell_type": "markdown",
      "source": [
        "**2. Imports & Setup**"
      ],
      "metadata": {
        "id": "eqjtXSN3Slgd"
      }
    },
    {
      "cell_type": "code",
      "source": [
        "import numpy as np\n",
        "import matplotlib.pyplot as plt"
      ],
      "metadata": {
        "id": "-NscQ7gaTjsf"
      },
      "execution_count": null,
      "outputs": []
    },
    {
      "cell_type": "markdown",
      "source": [
        "**3. Activation Functions & Derivatives**"
      ],
      "metadata": {
        "id": "L0-4N-9cTntA"
      }
    },
    {
      "cell_type": "code",
      "source": [
        "# --------------------- Activation Functions & Derivatives ---------------------\n",
        "def relu(x):\n",
        "    return np.maximum(0, x)\n",
        "\n",
        "def relu_derivative(x):\n",
        "    return (x > 0).astype(float)\n",
        "\n",
        "def sigmoid(x):\n",
        "    return 1 / (1 + np.exp(-x))\n",
        "\n",
        "def sigmoid_derivative(x):\n",
        "    sig = sigmoid(x)\n",
        "    return sig * (1 - sig)\n",
        "\n",
        "def tanh(x):\n",
        "    return np.tanh(x)\n",
        "\n",
        "def tanh_derivative(x):\n",
        "    return 1 - np.tanh(x)**2\n",
        "\n",
        "def softmax(x):\n",
        "    exp_x = np.exp(x - np.max(x, axis=1, keepdims=True))\n",
        "    return exp_x / np.sum(exp_x, axis=1, keepdims=True)"
      ],
      "metadata": {
        "id": "vC5uZ88vT05s"
      },
      "execution_count": null,
      "outputs": []
    },
    {
      "cell_type": "markdown",
      "source": [
        "**4. Loss Function**"
      ],
      "metadata": {
        "id": "gMztgoigT10-"
      }
    },
    {
      "cell_type": "code",
      "source": [
        "# --------------------- Loss Function ---------------------\n",
        "def categorical_cross_entropy(y_true, y_pred):\n",
        "    y_pred = np.clip(y_pred, 1e-7, 1 - 1e-7)\n",
        "    return -np.mean(np.sum(y_true * np.log(y_pred), axis=1))"
      ],
      "metadata": {
        "id": "F9aS-gygUQ-g"
      },
      "execution_count": null,
      "outputs": []
    },
    {
      "cell_type": "markdown",
      "source": [
        "**5. Dense Layer Class**"
      ],
      "metadata": {
        "id": "EAHaZvQA4GmW"
      }
    },
    {
      "cell_type": "code",
      "source": [
        "# --------------------- Dense Layer with Adam Optimizer ---------------------\n",
        "class DenseLayer:\n",
        "    def __init__(self, input_size, output_size, activation=None):\n",
        "        self.weights = np.random.randn(input_size, output_size) * 0.01\n",
        "        self.bias = np.zeros((1, output_size))\n",
        "        self.activation = activation\n",
        "        self.m_weights = np.zeros_like(self.weights)  # Adam\n",
        "        self.v_weights = np.zeros_like(self.weights)\n",
        "        self.m_bias = np.zeros_like(self.bias)\n",
        "        self.v_bias = np.zeros_like(self.bias)\n",
        "\n",
        "    def forward(self, inputs):\n",
        "        self.inputs = inputs\n",
        "        self.z = np.dot(inputs, self.weights) + self.bias\n",
        "        if self.activation == 'relu':\n",
        "            self.output = relu(self.z)\n",
        "        elif self.activation == 'sigmoid':\n",
        "            self.output = sigmoid(self.z)\n",
        "        elif self.activation == 'tanh':\n",
        "            self.output = tanh(self.z)\n",
        "        elif self.activation == 'softmax':\n",
        "            self.output = softmax(self.z)\n",
        "        else:\n",
        "            self.output = self.z\n",
        "        return self.output\n",
        "\n",
        "    def backward(self, dvalues, optimizer, t, beta1=0.9, beta2=0.999, epsilon=1e-8):\n",
        "        # Activation derivative\n",
        "        if self.activation == 'relu':\n",
        "            dactivation = relu_derivative(self.z)\n",
        "        elif self.activation == 'sigmoid':\n",
        "            dactivation = sigmoid_derivative(self.z)\n",
        "        elif self.activation == 'tanh':\n",
        "            dactivation = tanh_derivative(self.z)\n",
        "        else:\n",
        "            dactivation = 1\n",
        "        dvalues *= dactivation\n",
        "\n",
        "        # Gradients\n",
        "        self.dweights = np.dot(self.inputs.T, dvalues)\n",
        "        self.dbias = np.sum(dvalues, axis=0, keepdims=True)\n",
        "        self.dinputs = np.dot(dvalues, self.weights.T)\n",
        "\n",
        "        # Adam updates\n",
        "        if optimizer == 'adam':\n",
        "            self.m_weights = beta1 * self.m_weights + (1 - beta1) * self.dweights\n",
        "            self.m_bias = beta1 * self.m_bias + (1 - beta1) * self.dbias\n",
        "            self.v_weights = beta2 * self.v_weights + (1 - beta2) * (self.dweights ** 2)\n",
        "            self.v_bias = beta2 * self.v_bias + (1 - beta2) * (self.dbias ** 2)\n",
        "\n",
        "            # Bias correction\n",
        "            m_hat_weights = self.m_weights / (1 - beta1 ** t)\n",
        "            m_hat_bias = self.m_bias / (1 - beta1 ** t)\n",
        "            v_hat_weights = self.v_weights / (1 - beta2 ** t)\n",
        "            v_hat_bias = self.v_bias / (1 - beta2 ** t)\n",
        "\n",
        "            # Update parameters\n",
        "            self.weights -= learning_rate * m_hat_weights / (np.sqrt(v_hat_weights) + epsilon)\n",
        "            self.bias -= learning_rate * m_hat_bias / (np.sqrt(v_hat_bias) + epsilon)\n",
        "\n",
        "        return self.dinputs\n"
      ],
      "metadata": {
        "id": "jSWqSOiZ4Gxf"
      },
      "execution_count": null,
      "outputs": []
    },
    {
      "cell_type": "markdown",
      "source": [
        "**6. Neural Network Class**"
      ],
      "metadata": {
        "id": "8W_VXwdH3u24"
      }
    },
    {
      "cell_type": "code",
      "source": [
        "# --------------------- Neural Network ---------------------\n",
        "class NeuralNetwork:\n",
        "    def __init__(self, optimizer='adam', beta1=0.9, beta2=0.999, epsilon=1e-8):\n",
        "        self.layers = []\n",
        "        self.optimizer = optimizer\n",
        "        self.beta1 = beta1\n",
        "        self.beta2 = beta2\n",
        "        self.epsilon = epsilon\n",
        "        self.t = 0\n",
        "\n",
        "    def add_layer(self, layer):\n",
        "        self.layers.append(layer)\n",
        "\n",
        "    def forward(self, X):\n",
        "        for layer in self.layers:\n",
        "            X = layer.forward(X)\n",
        "        return X\n",
        "\n",
        "    def backward(self, y_true, y_pred, learning_rate):\n",
        "        dvalues = y_pred - y_true\n",
        "        self.t += 1\n",
        "        for layer in reversed(self.layers):\n",
        "            dvalues = layer.backward(\n",
        "                dvalues,\n",
        "                optimizer=self.optimizer,\n",
        "                t=self.t,\n",
        "                beta1=self.beta1,\n",
        "                beta2=self.beta2,\n",
        "                epsilon=self.epsilon\n",
        "            )\n"
      ],
      "metadata": {
        "id": "dUgfuMcY3vBg"
      },
      "execution_count": null,
      "outputs": []
    },
    {
      "cell_type": "markdown",
      "source": [
        "**7. Training & Visualization**"
      ],
      "metadata": {
        "id": "2dMULS1gURPy"
      }
    },
    {
      "cell_type": "code",
      "source": [
        "# --------------------- Training & Visualization ---------------------\n",
        "if __name__ == \"__main__\":\n",
        "    # XOR dataset\n",
        "    X = np.array([[0, 0], [0, 1], [1, 0], [1, 1]])\n",
        "    y = np.array([[1, 0], [0, 1], [0, 1], [1, 0]])  # One-hot\n",
        "\n",
        "    # Create network\n",
        "    nn = NeuralNetwork(optimizer='adam')\n",
        "    nn.add_layer(DenseLayer(2, 4, activation='sigmoid'))  # Hidden\n",
        "    nn.add_layer(DenseLayer(4, 2, activation='softmax'))  # Output\n",
        "\n",
        "    # Training\n",
        "    epochs = 1000\n",
        "    learning_rate = 0.01\n",
        "    for epoch in range(epochs):\n",
        "        y_pred = nn.forward(X)\n",
        "        loss = categorical_cross_entropy(y, y_pred)\n",
        "        nn.backward(y, y_pred, learning_rate)\n",
        "        if epoch % 100 == 0:\n",
        "            print(f\"Epoch {epoch}, Loss: {loss:.4f}\")\n",
        "\n",
        "    # Test predictions\n",
        "    print(\"\\nTest Predictions:\")\n",
        "    test_inputs = np.array([[0,0], [0,1], [1,0], [1,1], [0.5, 0.5]])\n",
        "    for x in test_inputs:\n",
        "        prob = nn.forward(x.reshape(1, -1))\n",
        "        print(f\"Input {x}: Class {np.argmax(prob)} ({prob})\")\n",
        "\n",
        "    # Plot decision boundary\n",
        "    xx, yy = np.meshgrid(np.linspace(0, 1, 100), np.linspace(0, 1, 100))\n",
        "    grid = np.c_[xx.ravel(), yy.ravel()]\n",
        "    probs = nn.forward(grid)\n",
        "    preds = np.argmax(probs, axis=1).reshape(xx.shape)\n",
        "\n",
        "    plt.figure(figsize=(8, 6))\n",
        "    plt.contourf(xx, yy, preds, alpha=0.3, cmap='coolwarm')\n",
        "    plt.scatter(X[:,0], X[:,1], c=np.argmax(y, axis=1), cmap='coolwarm', edgecolors='k')\n",
        "    plt.title(\"XOR Decision Boundary\")\n",
        "    plt.xlabel(\"Input 1\")\n",
        "    plt.ylabel(\"Input 2\")\n",
        "    plt.show()"
      ],
      "metadata": {
        "id": "-f0oCMZ1dLvB",
        "colab": {
          "base_uri": "https://localhost:8080/",
          "height": 868
        },
        "outputId": "a27f1cc6-04c6-4a46-9977-a04e35f6e29b"
      },
      "execution_count": null,
      "outputs": [
        {
          "output_type": "stream",
          "name": "stdout",
          "text": [
            "Epoch 0, Loss: 0.6932\n",
            "Epoch 100, Loss: 0.6668\n",
            "Epoch 200, Loss: 0.1964\n",
            "Epoch 300, Loss: 0.0464\n",
            "Epoch 400, Loss: 0.0210\n",
            "Epoch 500, Loss: 0.0124\n",
            "Epoch 600, Loss: 0.0083\n",
            "Epoch 700, Loss: 0.0060\n",
            "Epoch 800, Loss: 0.0046\n",
            "Epoch 900, Loss: 0.0036\n",
            "\n",
            "Test Predictions:\n",
            "Input [0. 0.]: Class 0 ([[0.99731509 0.00268491]])\n",
            "Input [0. 1.]: Class 1 ([[0.00265725 0.99734275]])\n",
            "Input [1. 0.]: Class 1 ([[0.00265457 0.99734543]])\n",
            "Input [1. 1.]: Class 0 ([[0.99635234 0.00364766]])\n",
            "Input [0.5 0.5]: Class 1 ([[0.00265591 0.99734409]])\n"
          ]
        },
        {
          "output_type": "display_data",
          "data": {
            "text/plain": [
              "<Figure size 800x600 with 1 Axes>"
            ],
            "image/png": "[encoded data removed]"
          },
          "metadata": {}
        }
      ]
    }
  ]
}